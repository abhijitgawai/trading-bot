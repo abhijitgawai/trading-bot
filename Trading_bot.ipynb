{
 "cells": [
  {
   "cell_type": "raw",
   "metadata": {},
   "source": [
    "resources\n",
    "api docs binance - https://binance-docs.github.io/apidocs/futures/en/#general-api-information\n",
    "binance 3rd party api liabrary - https://github.com/Binance-docs/Binance_Futures_python\n",
    "binance 3rd party api liabrary - https://github.com/Binance-docs/binance-futures-connector-python/tree/main/binance/futures\n",
    "binance testnet docs - https://dev.binance.vision/t/binance-testnet-environments/\n",
    "binance testnet link - https://testnet.binancefuture.com/en/futures/BTCUSDT\n",
    "base endpoint is: https://fapi.binance.com   # https://fapi.binance.com/fapi/v1/exchangeInfo\n",
    "userful links - https://docs.google.com/document/d/1_pUo3jmnbRP6SER0rQGL_U-RV-VAPFkB8muIt6gnT24/edit?usp=sharing"
   ]
  },
  {
   "cell_type": "code",
   "execution_count": null,
   "metadata": {},
   "outputs": [],
   "source": [
    "# Installing 'binance-futures-connector'\n",
    "# pip install binance-futures-connector\n",
    "# from binance.futures import Futures "
   ]
  },
  {
   "cell_type": "code",
   "execution_count": null,
   "metadata": {},
   "outputs": [],
   "source": [
    "# Installing 'Binance_Futures_python'\n",
    "# # !git clone https://github.com/Binance-docs/Binance_Futures_python.git\n",
    "# # print('cloned')\n",
    "# # python3 setup.py install\n",
    "# import binance_f  # For perpetual swap\n",
    "# import binance_d  # For delivery futures\n",
    "\n",
    "# USDT-M Futures - fapi.binance.com\n",
    "# COIN-M Delivery -  dapi.binance.com"
   ]
  },
  {
   "cell_type": "code",
   "execution_count": null,
   "metadata": {},
   "outputs": [],
   "source": [
    "API_Key = 'sample_api'\n",
    "Secret_Key = 'sample_sec_api'\n",
    "API_Key_T = '1d686436da90782146a9bb4fc13f5fa2f56bc05a336702884b142bef5be8c6cd' # Testnet futures https://testnet.binancefuture.com/en/futures/BTCUSDT\n",
    "Secret_Key_T = 'cdd334a99ec258c0f6ad69734d08ff11791b728b2d1ac624bea3c5d4eea3b3b9'"
   ]
  },
  {
   "cell_type": "code",
   "execution_count": null,
   "metadata": {},
   "outputs": [],
   "source": [
    "Signature: client.new_order(symbol: str, side: str, type: str, **kwargs)\n",
    "Docstring:\n",
    "|\n",
    "| **New Order (TRADE)**\n",
    "| *Send a new order*\n",
    "\n",
    ":API endpoint: ``POST /fapi/v1/order``\n",
    ":API doc: https://binance-docs.github.io/apidocs/futures/en/#new-order-trade\n",
    "\n",
    ":parameter symbol: string\n",
    ":parameter side: string\n",
    ":parameter type: string\n",
    ":parameter positionSide: optional string. Default BOTH for One-way Mode; LONG or SHORT for Hedge Mode. It must be passed in Hedge Mode.\n",
    ":parameter timeInForce: optional string\n",
    ":parameter quantity: optional float\n",
    ":parameter reduceOnly: optional string\n",
    ":parameter price: optional float\n",
    ":parameter newClientOrderId: optional string. An unique ID among open orders. Automatically generated if not sent.\n",
    ":parameter stopPrice: optional float. Use with STOP/STOP_MARKET or TAKE_PROFIT/TAKE_PROFIT_MARKET orders.\n",
    ":parameter closePosition: optional string. true or false; Close-All, use with STOP_MARKET or TAKE_PROFIT_MARKET.\n",
    ":parameter activationPrice: optional float. Use with TRAILING_STOP_MARKET orders, default is the latest price (supporting different workingType).\n",
    ":parameter callbackRate: optional float. Use with TRAILING_STOP_MARKET orders, min 0.1, max 5 where 1 for 1%.\n",
    ":parameter workingType: optional string. stopPrice triggered by: \"MARK_PRICE\", \"CONTRACT_PRICE\". Default \"CONTRACT_PRICE\".\n",
    ":parameter priceProtect: optional string. \"TRUE\" or \"FALSE\", default \"FALSE\". Use with STOP/STOP_MARKET or TAKE_PROFIT/TAKE_PROFIT_MARKET orders.\n",
    ":parameter newOrderRespType: optional float. \"ACK\" or \"RESULT\", default \"ACK\".\n",
    ":parameter recvWindow: optional int"
   ]
  },
  {
   "cell_type": "code",
   "execution_count": null,
   "metadata": {
    "scrolled": true
   },
   "outputs": [],
   "source": [
    "'''''''''\n",
    "This worked and placed one order\n",
    "'''''''''\n",
    "from binance.futures import Futures \n",
    "\n",
    "client = Futures()\n",
    "print(client.time())\n",
    "\n",
    "client = Futures(key=API_Key_T, secret=Secret_Key_T, base_url= \"https://testnet.binancefuture.com\")\n",
    "\n",
    "# Get account information\n",
    "print(client.account(), \"- is this printed\")\n",
    "\n",
    "# Post a new order\n",
    "params = {\n",
    "    'symbol': 'BTCUSDT',\n",
    "    'side': 'BUY',\n",
    "    'type': 'LIMIT',\n",
    "    'timeInForce': 'GTC',\n",
    "    'quantity': 0.002,\n",
    "    'price': 38548,\n",
    "}\n",
    "\n",
    "response = client.new_order(**params)\n",
    "print(response)\n"
   ]
  },
  {
   "cell_type": "code",
   "execution_count": null,
   "metadata": {},
   "outputs": [],
   "source": [
    "# Getting Details about previous orders\n",
    "response_order1 = client.query_order('BTCUSDT', orderId=3036728547)\n",
    "response_order1, response_order1['status']"
   ]
  },
  {
   "cell_type": "code",
   "execution_count": null,
   "metadata": {
    "scrolled": true
   },
   "outputs": [],
   "source": [
    "from binance.websocket.futures.websocket_client import FuturesWebsocketClient as WebsocketClient\n",
    "\n",
    "def message_handler(message):\n",
    "    print(message)\n",
    "\n",
    "ws_client = WebsocketClient()\n",
    "ws_client.start()\n",
    "\n",
    "ws_client.mini_ticker(\n",
    "    symbol='bnbusdt',\n",
    "    id=1,\n",
    "    callback=message_handler,\n",
    ")\n",
    "\n",
    "# Combine selected streams\n",
    "ws_client.instant_subscribe(\n",
    "    stream=['bnbusdt@bookTicker', 'ethusdt@bookTicker'],\n",
    "    callback=message_handler,\n",
    ")\n",
    "\n",
    "# ws_client.stop()\n"
   ]
  },
  {
   "cell_type": "code",
   "execution_count": null,
   "metadata": {},
   "outputs": [],
   "source": [
    "# pip install tradingview_ta"
   ]
  },
  {
   "cell_type": "code",
   "execution_count": null,
   "metadata": {},
   "outputs": [],
   "source": [
    "docker run -p 8080:8080 --rm reg2005/tradingview-ta-docker"
   ]
  },
  {
   "cell_type": "code",
   "execution_count": null,
   "metadata": {},
   "outputs": [],
   "source": [
    "import logging\n",
    "from binance.futures import Futures as Client\n",
    "from binance.lib.utils import config_logging\n",
    "\n",
    "config_logging(logging, logging.DEBUG)\n",
    "\n",
    "futures_client = Client()\n",
    "logging.info(futures_client.ping())"
   ]
  },
  {
   "cell_type": "code",
   "execution_count": null,
   "metadata": {
    "scrolled": true
   },
   "outputs": [],
   "source": [
    "# Go to Trading View, BTCUSDTPERP (symobl) , exchange (binance)\n",
    "import logging\n",
    "from binance.futures import Futures as Client\n",
    "from binance.lib.utils import config_logging\n",
    "\n",
    "config_logging(logging, logging.DEBUG)\n",
    "\n",
    "futures_client = Client()\n",
    "\n",
    "btcusdt_5m = logging.info(futures_client.klines(\"BTCUSDT\", \"5m\"))"
   ]
  },
  {
   "cell_type": "code",
   "execution_count": null,
   "metadata": {
    "scrolled": true
   },
   "outputs": [],
   "source": [
    "'''''''''\n",
    "This worked and fetched data correctly\n",
    "'''''''''\n",
    "btcbusd_5m=futures_client.klines(\"BTCBUSD\", \"5m\") # Go to binance, derivatives, usd futures, btcbusd perpetual (https://www.binance.com/en-IN/futures/BTCBUSD)\n",
    "btcbusd_5m # len(btcbusd_5m) - 500 # 1 day 17 hrsx`"
   ]
  },
  {
   "cell_type": "code",
   "execution_count": null,
   "metadata": {},
   "outputs": [],
   "source": [
    "#1651693800000\n",
    "btcusdt_5m[::-1][0] # getting lattest data, this candle is not closed,    btcusdt_5m[::-1][0] this candle is closed"
   ]
  },
  {
   "cell_type": "code",
   "execution_count": null,
   "metadata": {},
   "outputs": [],
   "source": [
    "len(btcusdt_5m) # 1 day 17 hrs"
   ]
  },
  {
   "cell_type": "code",
   "execution_count": null,
   "metadata": {},
   "outputs": [],
   "source": [
    "futures_client.klines(\"BTCUSDT\", \"5m\")"
   ]
  },
  {
   "cell_type": "code",
   "execution_count": null,
   "metadata": {},
   "outputs": [],
   "source": [
    "# output of above\n",
    "[1651754400000,'39539.20','39540.90','39522.40','39538.30','229.192',1651754699999,'9060381.38510',2996,'123.740','4891750.11680'0'], \n",
    "[1651754700000,'39538.40','39550.00','39501.70','39517.90','329.564',1651754999999,'13025930.27350',4104,'177.951','7033420.16680'0'],\n",
    "#  Open time,\tOpen,\tHigh,\tLow\t,Close\t,Volume\t,Close time,\tQuote asset volume\tNumber of trades\tTaker buy base asset volume\tTaker buy quote asset volume\tIgnore\n",
    "#  reading output https://github.com/binance/binance-public-data/"
   ]
  },
  {
   "cell_type": "code",
   "execution_count": null,
   "metadata": {},
   "outputs": [],
   "source": [
    "# this function is important def continuous_klines(\n",
    "# https://github.com/Binance-docs/binance-futures-connector-python/blob/main/binance/futures/market.py"
   ]
  },
  {
   "cell_type": "code",
   "execution_count": null,
   "metadata": {},
   "outputs": [],
   "source": [
    "from binance.lib.utils import check_required_parameter\n",
    "from binance.lib.utils import check_required_parameters\n",
    "def continuous_klines(self, pair: str, contractType: str, interval: str, **kwargs):\n",
    "    \"\"\"\n",
    "    |\n",
    "    | **Continuous Kline/Candlestick Data**\n",
    "    | *Kline/candlestick bars for a specific contract type. Klines are uniquely identified by their open time.*  \n",
    "    \n",
    "    :API endpoint: ``GET /fapi/v1/continuousKlines``\n",
    "    :API doc: https://binance-docs.github.io/apidocs/futures/en/#continuous-contract-kline-candlestick-data\n",
    "    :parameter pair: string; the trading pair.\n",
    "    :parameter contractType: string; PERPETUAL, CURRENT_MONTH, NEXT_MONTH, CURRENT_QUARTER, NEXT_QUARTER.\n",
    "    :parameter interval: string; the interval of kline, e.g 1m, 5m, 1h, 1d, etc. (see more in https://binance-docs.github.io/apidocs/futures/en/#public-endpoints-info)\n",
    "    :parameter limit: optional int; limit the results. Default 500, max 1000.\n",
    "    :parameter startTime: optional int\n",
    "    :parameter endTime: optional int\n",
    "    |\n",
    "    \"\"\"\n",
    "\n",
    "    check_required_parameters([[pair, \"pair\"], [contractType,\"contractType\"], [interval, \"interval\"]])\n",
    "    params = {\"pair\": pair, \"contractType\":contractType, \"interval\": interval, **kwargs}\n",
    "    return self.query(\"/fapi/v1/continuousKlines\", params)\n",
    "from binance.futures import Futures as Client\n",
    "continuous_klines_object = Client()\n",
    "a= continuous_klines_object.continuous_klines(\"BTCUSDT\",\"PERPETUAL\",  \"1m\")[::-1][:21] # 1652122500000 lattest"
   ]
  },
  {
   "cell_type": "code",
   "execution_count": null,
   "metadata": {},
   "outputs": [],
   "source": [
    "# acessing functions\n",
    "def ping(self):\n",
    "    \"\"\"\n",
    "    |\n",
    "    | **Test Connectivity**\n",
    "    | *Test connectivity to the Rest API.*\n",
    "    :API endpoint: ``GET /fapi/v1/ping``\n",
    "    :API doc: https://binance-docs.github.io/apidocs/futures/en/#test-connectivity\n",
    "    |\n",
    "    \"\"\"\n",
    "\n",
    "    url_path = \"/fapi/v1/ping\"\n",
    "    return self.query(url_path)\n",
    "from binance.futures import Futures as Client\n",
    "pping = Client()\n",
    "pping.ping()"
   ]
  },
  {
   "cell_type": "code",
   "execution_count": null,
   "metadata": {},
   "outputs": [],
   "source": [
    "from binance.lib.utils import check_required_parameter\n",
    "from binance.lib.utils import check_required_parameters\n",
    "from binance.futures import Futures as Client\n",
    "import pandas as pd\n",
    "import time"
   ]
  },
  {
   "cell_type": "code",
   "execution_count": null,
   "metadata": {},
   "outputs": [],
   "source": [
    "continuous_klines_object = Client()\n",
    "\n",
    "def continuous_klines(self, pair: str, contractType: str, interval: str, **kwargs):\n",
    "    check_required_parameters([[pair, \"pair\"], [contractType,\"contractType\"], [interval, \"interval\"]])\n",
    "    params = {\"pair\": pair, \"contractType\":contractType, \"interval\": interval, **kwargs}\n",
    "    return self.query(\"/fapi/v1/continuousKlines\", params)\n",
    "\n",
    "def getRawData():\n",
    "    return continuous_klines_object.continuous_klines(\"BTCUSDT\",\"PERPETUAL\",  \"1m\")[::-1][:21] # 1652122500000 lattest"
   ]
  },
  {
   "cell_type": "code",
   "execution_count": null,
   "metadata": {
    "scrolled": true
   },
   "outputs": [],
   "source": [
    "# Run this, it will update after every 1 minute, for this change \"5m\" to \"1m\" ^^^^^^ here above\n",
    "first_time_stamp = 0\n",
    "\n",
    "\n",
    "while 1:\n",
    "    Raw_Data = pd.DataFrame(getRawData(),columns=['openTimeStamp','open','high','low','close',0,1,2,3,4,5,6])\n",
    "    Raw_Data_new = Raw_Data.drop([0,1,2,3,4,5,6], axis = 1)\n",
    "    if first_time_stamp == Raw_Data_new['openTimeStamp'][0]:\n",
    "        print('repeat1')\n",
    "        pass\n",
    "    else:\n",
    "        print('repeat2')\n",
    "        first_time_stamp = Raw_Data_new['openTimeStamp'][0]\n",
    "        print(Raw_Data_new)\n",
    "        time.sleep(10) # API is giving sometimes old data"
   ]
  },
  {
   "cell_type": "code",
   "execution_count": null,
   "metadata": {},
   "outputs": [],
   "source": [
    "import time\n",
    "print('hello')\n",
    "time.sleep(5)\n",
    "print('world')"
   ]
  }
 ],
 "metadata": {
  "kernelspec": {
   "display_name": "Python 3",
   "language": "python",
   "name": "python3"
  },
  "language_info": {
   "codemirror_mode": {
    "name": "ipython",
    "version": 3
   },
   "file_extension": ".py",
   "mimetype": "text/x-python",
   "name": "python",
   "nbconvert_exporter": "python",
   "pygments_lexer": "ipython3",
   "version": "3.7.3"
  }
 },
 "nbformat": 4,
 "nbformat_minor": 2
}
