{
 "cells": [
  {
   "cell_type": "raw",
   "metadata": {},
   "source": [
    "resources\n",
    "api docs binance - https://binance-docs.github.io/apidocs/futures/en/#general-api-information\n",
    "binance 3rd party api liabrary - https://github.com/Binance-docs/Binance_Futures_python\n",
    "binance 3rd party api liabrary - https://github.com/Binance-docs/binance-futures-connector-python/tree/main/binance/futures\n",
    "binance testnet docs - https://dev.binance.vision/t/binance-testnet-environments/\n",
    "binance testnet link - https://testnet.binancefuture.com/en/futures/BTCUSDT\n",
    "base endpoint is: https://fapi.binance.com   # https://fapi.binance.com/fapi/v1/exchangeInfo\n",
    "userful links - https://docs.google.com/document/d/1_pUo3jmnbRP6SER0rQGL_U-RV-VAPFkB8muIt6gnT24/edit?usp=sharing"
   ]
  },
  {
   "cell_type": "code",
   "execution_count": null,
   "metadata": {},
   "outputs": [],
   "source": [
    "# Installing 'binance-futures-connector'\n",
    "# pip install binance-futures-connector\n",
    "# from binance.futures import Futures "
   ]
  },
  {
   "cell_type": "code",
   "execution_count": null,
   "metadata": {},
   "outputs": [],
   "source": [
    "# Installing 'Binance_Futures_python'\n",
    "# # !git clone https://github.com/Binance-docs/Binance_Futures_python.git\n",
    "# # print('cloned')\n",
    "# # python3 setup.py install\n",
    "# import binance_f  # For perpetual swap\n",
    "# import binance_d  # For delivery futures\n",
    "\n",
    "# USDT-M Futures - fapi.binance.com\n",
    "# COIN-M Delivery -  dapi.binance.com"
   ]
  },
  {
   "cell_type": "code",
   "execution_count": null,
   "metadata": {},
   "outputs": [],
   "source": [
    "API_Key = 'sample_api'\n",
    "Secret_Key = 'sample_sec_api'\n",
    "API_Key_T = '1d686436da90782146a9bb4fc13f5fa2f56bc05a336702884b142bef5be8c6cd' # Testnet futures https://testnet.binancefuture.com/en/futures/BTCUSDT\n",
    "Secret_Key_T = 'cdd334a99ec258c0f6ad69734d08ff11791b728b2d1ac624bea3c5d4eea3b3b9'"
   ]
  },
  {
   "cell_type": "code",
   "execution_count": null,
   "metadata": {},
   "outputs": [],
   "source": [
    "Signature: client.new_order(symbol: str, side: str, type: str, **kwargs)\n",
    "Docstring:\n",
    "|\n",
    "| **New Order (TRADE)**\n",
    "| *Send a new order*\n",
    "\n",
    ":API endpoint: ``POST /fapi/v1/order``\n",
    ":API doc: https://binance-docs.github.io/apidocs/futures/en/#new-order-trade\n",
    "\n",
    ":parameter symbol: string\n",
    ":parameter side: string\n",
    ":parameter type: string\n",
    ":parameter positionSide: optional string. Default BOTH for One-way Mode; LONG or SHORT for Hedge Mode. It must be passed in Hedge Mode.\n",
    ":parameter timeInForce: optional string\n",
    ":parameter quantity: optional float\n",
    ":parameter reduceOnly: optional string\n",
    ":parameter price: optional float\n",
    ":parameter newClientOrderId: optional string. An unique ID among open orders. Automatically generated if not sent.\n",
    ":parameter stopPrice: optional float. Use with STOP/STOP_MARKET or TAKE_PROFIT/TAKE_PROFIT_MARKET orders.\n",
    ":parameter closePosition: optional string. true or false; Close-All, use with STOP_MARKET or TAKE_PROFIT_MARKET.\n",
    ":parameter activationPrice: optional float. Use with TRAILING_STOP_MARKET orders, default is the latest price (supporting different workingType).\n",
    ":parameter callbackRate: optional float. Use with TRAILING_STOP_MARKET orders, min 0.1, max 5 where 1 for 1%.\n",
    ":parameter workingType: optional string. stopPrice triggered by: \"MARK_PRICE\", \"CONTRACT_PRICE\". Default \"CONTRACT_PRICE\".\n",
    ":parameter priceProtect: optional string. \"TRUE\" or \"FALSE\", default \"FALSE\". Use with STOP/STOP_MARKET or TAKE_PROFIT/TAKE_PROFIT_MARKET orders.\n",
    ":parameter newOrderRespType: optional float. \"ACK\" or \"RESULT\", default \"ACK\".\n",
    ":parameter recvWindow: optional int"
   ]
  },
  {
   "cell_type": "code",
   "execution_count": null,
   "metadata": {
    "scrolled": true
   },
   "outputs": [],
   "source": [
    "'''''''''\n",
    "This worked and placed one order\n",
    "'''''''''\n",
    "from binance.futures import Futures \n",
    "\n",
    "client = Futures()\n",
    "print(client.time())\n",
    "\n",
    "client = Futures(key=API_Key_T, secret=Secret_Key_T, base_url= \"https://testnet.binancefuture.com\")\n",
    "\n",
    "# Get account information\n",
    "print(client.account(), \"- is this printed\")\n",
    "\n",
    "# Post a new order\n",
    "params = {\n",
    "    'symbol': 'BTCUSDT',\n",
    "    'side': 'BUY',\n",
    "    'type': 'LIMIT',\n",
    "    'timeInForce': 'GTC',\n",
    "    'quantity': 0.002,\n",
    "    'price': 38548,\n",
    "}\n",
    "\n",
    "response = client.new_order(**params)\n",
    "print(response)\n"
   ]
  },
  {
   "cell_type": "code",
   "execution_count": null,
   "metadata": {},
   "outputs": [],
   "source": [
    "# Getting Details about previous orders\n",
    "response_order1 = client.query_order('BTCUSDT', orderId=3036728547)\n",
    "response_order1, response_order1['status']"
   ]
  },
  {
   "cell_type": "code",
   "execution_count": null,
   "metadata": {
    "scrolled": true
   },
   "outputs": [],
   "source": [
    "from binance.websocket.futures.websocket_client import FuturesWebsocketClient as WebsocketClient\n",
    "\n",
    "def message_handler(message):\n",
    "    print(message)\n",
    "\n",
    "ws_client = WebsocketClient()\n",
    "ws_client.start()\n",
    "\n",
    "ws_client.mini_ticker(\n",
    "    symbol='bnbusdt',\n",
    "    id=1,\n",
    "    callback=message_handler,\n",
    ")\n",
    "\n",
    "# Combine selected streams\n",
    "ws_client.instant_subscribe(\n",
    "    stream=['bnbusdt@bookTicker', 'ethusdt@bookTicker'],\n",
    "    callback=message_handler,\n",
    ")\n",
    "\n",
    "# ws_client.stop()\n"
   ]
  },
  {
   "cell_type": "code",
   "execution_count": null,
   "metadata": {},
   "outputs": [],
   "source": [
    "# pip install tradingview_ta"
   ]
  },
  {
   "cell_type": "code",
   "execution_count": null,
   "metadata": {},
   "outputs": [],
   "source": [
    "docker run -p 8080:8080 --rm reg2005/tradingview-ta-docker"
   ]
  },
  {
   "cell_type": "code",
   "execution_count": null,
   "metadata": {},
   "outputs": [],
   "source": [
    "import logging\n",
    "from binance.futures import Futures as Client\n",
    "from binance.lib.utils import config_logging\n",
    "\n",
    "config_logging(logging, logging.DEBUG)\n",
    "\n",
    "futures_client = Client()\n",
    "logging.info(futures_client.ping())"
   ]
  },
  {
   "cell_type": "code",
   "execution_count": null,
   "metadata": {
    "scrolled": true
   },
   "outputs": [],
   "source": [
    "# Go to Trading View, BTCUSDTPERP (symobl) , exchange (binance)\n",
    "import logging\n",
    "from binance.futures import Futures as Client\n",
    "from binance.lib.utils import config_logging\n",
    "\n",
    "config_logging(logging, logging.DEBUG)\n",
    "\n",
    "futures_client = Client()\n",
    "\n",
    "btcusdt_5m = logging.info(futures_client.klines(\"BTCUSDT\", \"5m\"))"
   ]
  },
  {
   "cell_type": "code",
   "execution_count": null,
   "metadata": {
    "scrolled": true
   },
   "outputs": [],
   "source": [
    "'''''''''\n",
    "This worked and fetched data correctly\n",
    "'''''''''\n",
    "btcbusd_5m=futures_client.klines(\"BTCBUSD\", \"5m\") # Go to binance, derivatives, usd futures, btcbusd perpetual (https://www.binance.com/en-IN/futures/BTCBUSD)\n",
    "btcbusd_5m # len(btcbusd_5m) - 500 # 1 day 17 hrsx`"
   ]
  },
  {
   "cell_type": "code",
   "execution_count": null,
   "metadata": {},
   "outputs": [],
   "source": [
    "#1651693800000\n",
    "btcusdt_5m[::-1][0] # getting lattest data, this candle is not closed,    btcusdt_5m[::-1][0] this candle is closed"
   ]
  },
  {
   "cell_type": "code",
   "execution_count": null,
   "metadata": {},
   "outputs": [],
   "source": [
    "len(btcusdt_5m) # 1 day 17 hrs"
   ]
  },
  {
   "cell_type": "code",
   "execution_count": null,
   "metadata": {},
   "outputs": [],
   "source": [
    "futures_client.klines(\"BTCUSDT\", \"5m\")"
   ]
  },
  {
   "cell_type": "code",
   "execution_count": null,
   "metadata": {},
   "outputs": [],
   "source": [
    "# output of above\n",
    "[1651754400000,'39539.20','39540.90','39522.40','39538.30','229.192',1651754699999,'9060381.38510',2996,'123.740','4891750.11680'0'], \n",
    "[1651754700000,'39538.40','39550.00','39501.70','39517.90','329.564',1651754999999,'13025930.27350',4104,'177.951','7033420.16680'0'],\n",
    "#  Open time,\tOpen,\tHigh,\tLow\t,Close\t,Volume\t,Close time,\tQuote asset volume\tNumber of trades\tTaker buy base asset volume\tTaker buy quote asset volume\tIgnore\n",
    "#  reading output https://github.com/binance/binance-public-data/"
   ]
  },
  {
   "cell_type": "code",
   "execution_count": null,
   "metadata": {},
   "outputs": [],
   "source": [
    "# this function is important def continuous_klines(\n",
    "# https://github.com/Binance-docs/binance-futures-connector-python/blob/main/binance/futures/market.py"
   ]
  },
  {
   "cell_type": "code",
   "execution_count": null,
   "metadata": {},
   "outputs": [],
   "source": [
    "from binance.lib.utils import check_required_parameter\n",
    "from binance.lib.utils import check_required_parameters\n",
    "def continuous_klines(self, pair: str, contractType: str, interval: str, **kwargs):\n",
    "    \"\"\"\n",
    "    |\n",
    "    | **Continuous Kline/Candlestick Data**\n",
    "    | *Kline/candlestick bars for a specific contract type. Klines are uniquely identified by their open time.*  \n",
    "    \n",
    "    :API endpoint: ``GET /fapi/v1/continuousKlines``\n",
    "    :API doc: https://binance-docs.github.io/apidocs/futures/en/#continuous-contract-kline-candlestick-data\n",
    "    :parameter pair: string; the trading pair.\n",
    "    :parameter contractType: string; PERPETUAL, CURRENT_MONTH, NEXT_MONTH, CURRENT_QUARTER, NEXT_QUARTER.\n",
    "    :parameter interval: string; the interval of kline, e.g 1m, 5m, 1h, 1d, etc. (see more in https://binance-docs.github.io/apidocs/futures/en/#public-endpoints-info)\n",
    "    :parameter limit: optional int; limit the results. Default 500, max 1000.\n",
    "    :parameter startTime: optional int\n",
    "    :parameter endTime: optional int\n",
    "    |\n",
    "    \"\"\"\n",
    "\n",
    "    check_required_parameters([[pair, \"pair\"], [contractType,\"contractType\"], [interval, \"interval\"]])\n",
    "    params = {\"pair\": pair, \"contractType\":contractType, \"interval\": interval, **kwargs}\n",
    "    return self.query(\"/fapi/v1/continuousKlines\", params)\n",
    "from binance.futures import Futures as Client\n",
    "continuous_klines_object = Client()\n",
    "a= continuous_klines_object.continuous_klines(\"BTCUSDT\",\"PERPETUAL\",  \"1m\")[::-1][:21] # 1652122500000 lattest"
   ]
  },
  {
   "cell_type": "code",
   "execution_count": 55,
   "metadata": {},
   "outputs": [
    {
     "data": {
      "text/plain": [
       "{}"
      ]
     },
     "execution_count": 55,
     "metadata": {},
     "output_type": "execute_result"
    }
   ],
   "source": [
    "# acessing functions\n",
    "def ping(self):\n",
    "    \"\"\"\n",
    "    |\n",
    "    | **Test Connectivity**\n",
    "    | *Test connectivity to the Rest API.*\n",
    "    :API endpoint: ``GET /fapi/v1/ping``\n",
    "    :API doc: https://binance-docs.github.io/apidocs/futures/en/#test-connectivity\n",
    "    |\n",
    "    \"\"\"\n",
    "\n",
    "    url_path = \"/fapi/v1/ping\"\n",
    "    return self.query(url_path)\n",
    "from binance.futures import Futures as Client\n",
    "pping = Client()\n",
    "pping.ping()"
   ]
  },
  {
   "cell_type": "code",
   "execution_count": 1,
   "metadata": {},
   "outputs": [],
   "source": [
    "from binance.lib.utils import check_required_parameter\n",
    "from binance.lib.utils import check_required_parameters\n",
    "from binance.futures import Futures as Client\n",
    "import pandas as pd\n",
    "import time"
   ]
  },
  {
   "cell_type": "code",
   "execution_count": 28,
   "metadata": {},
   "outputs": [],
   "source": [
    "continuous_klines_object = Client()\n",
    "\n",
    "def continuous_klines(self, pair: str, contractType: str, interval: str, **kwargs):\n",
    "    check_required_parameters([[pair, \"pair\"], [contractType,\"contractType\"], [interval, \"interval\"]])\n",
    "    params = {\"pair\": pair, \"contractType\":contractType, \"interval\": interval, **kwargs}\n",
    "    return self.query(\"/fapi/v1/continuousKlines\", params)\n",
    "\n",
    "def getRawData():\n",
    "    return continuous_klines_object.continuous_klines(\"BTCUSDT\",\"PERPETUAL\",  \"5m\")[::-1][:21] # 1652122500000 lattest"
   ]
  },
  {
   "cell_type": "code",
   "execution_count": null,
   "metadata": {
    "scrolled": true
   },
   "outputs": [
    {
     "name": "stdout",
     "output_type": "stream",
     "text": [
      "repeat2\n",
      "    openTimeStamp      open      high       low     close\n",
      "0   1652299500000  29352.30  29422.80  29175.20  29184.50\n",
      "1   1652299200000  29360.50  29655.00  29326.00  29352.40\n",
      "2   1652298900000  29569.00  29597.60  29311.90  29360.50\n",
      "3   1652298600000  29203.20  29576.30  29200.30  29568.90\n",
      "4   1652298300000  29297.20  29415.00  29156.50  29203.10\n",
      "5   1652298000000  29383.90  29480.40  29230.00  29301.90\n",
      "6   1652297700000  29556.80  29586.00  29300.00  29383.80\n",
      "7   1652297400000  29739.40  29815.00  29527.60  29556.70\n",
      "8   1652297100000  29598.10  29862.50  29580.80  29742.40\n",
      "9   1652296800000  29829.00  29848.90  29570.40  29598.00\n",
      "10  1652296500000  29779.50  29955.60  29664.00  29828.70\n",
      "11  1652296200000  29931.80  30042.00  29756.00  29779.40\n",
      "12  1652295900000  29851.80  29971.60  29780.80  29931.80\n",
      "13  1652295600000  29904.30  29978.50  29781.80  29851.90\n",
      "14  1652295300000  29906.00  29956.80  29764.60  29904.40\n",
      "15  1652295000000  29892.80  29965.20  29842.10  29905.90\n",
      "16  1652294700000  30217.80  30226.20  29765.60  29895.10\n",
      "17  1652294400000  30104.40  30250.00  29956.80  30218.90\n",
      "18  1652294100000  30082.10  30195.00  30037.20  30104.40\n",
      "19  1652293800000  30171.10  30191.50  29953.90  30082.20\n",
      "20  1652293500000  30084.20  30233.30  30084.20  30171.10\n"
     ]
    }
   ],
   "source": [
    "# Run this, it will update after every 1 minute, for this change \"5m\" to \"1m\" ^^^^^^ here above\n",
    "first_time_stamp = 0\n",
    "\n",
    "\n",
    "while 1:\n",
    "    Raw_Data = pd.DataFrame(getRawData(),columns=['openTimeStamp','open','high','low','close',0,1,2,3,4,5,6])\n",
    "    Raw_Data_new = Raw_Data.drop([0,1,2,3,4,5,6], axis = 1)\n",
    "    if first_time_stamp == Raw_Data_new['openTimeStamp'][0]:\n",
    "        print('repeat1')\n",
    "        pass\n",
    "    else:\n",
    "        print('repeat2')\n",
    "        first_time_stamp = Raw_Data_new['openTimeStamp'][0]\n",
    "        print(Raw_Data_new)\n",
    "        time.sleep(10) # API is giving sometimes old data"
   ]
  },
  {
   "cell_type": "code",
   "execution_count": null,
   "metadata": {},
   "outputs": [],
   "source": [
    "import time\n",
    "print('hello')\n",
    "time.sleep(5)\n",
    "print('world')"
   ]
  },
  {
   "cell_type": "code",
   "execution_count": null,
   "metadata": {},
   "outputs": [],
   "source": []
  },
  {
   "cell_type": "code",
   "execution_count": null,
   "metadata": {},
   "outputs": [],
   "source": []
  },
  {
   "cell_type": "code",
   "execution_count": 29,
   "metadata": {},
   "outputs": [
    {
     "name": "stdout",
     "output_type": "stream",
     "text": [
      "    openTimeStamp      open      high       low     close\n",
      "0   1652300400000  29182.10  29317.50  29050.60  29234.20\n",
      "1   1652300100000  29086.50  29493.00  28870.00  29182.20\n",
      "2   1652299800000  29187.40  29327.40  29071.70  29086.50\n",
      "3   1652299500000  29352.30  29422.80  29169.90  29187.40\n",
      "4   1652299200000  29360.50  29655.00  29326.00  29352.40\n",
      "5   1652298900000  29569.00  29597.60  29311.90  29360.50\n",
      "6   1652298600000  29203.20  29576.30  29200.30  29568.90\n",
      "7   1652298300000  29297.20  29415.00  29156.50  29203.10\n",
      "8   1652298000000  29383.90  29480.40  29230.00  29301.90\n",
      "9   1652297700000  29556.80  29586.00  29300.00  29383.80\n",
      "10  1652297400000  29739.40  29815.00  29527.60  29556.70\n",
      "11  1652297100000  29598.10  29862.50  29580.80  29742.40\n",
      "12  1652296800000  29829.00  29848.90  29570.40  29598.00\n",
      "13  1652296500000  29779.50  29955.60  29664.00  29828.70\n",
      "14  1652296200000  29931.80  30042.00  29756.00  29779.40\n",
      "15  1652295900000  29851.80  29971.60  29780.80  29931.80\n",
      "16  1652295600000  29904.30  29978.50  29781.80  29851.90\n",
      "17  1652295300000  29906.00  29956.80  29764.60  29904.40\n",
      "18  1652295000000  29892.80  29965.20  29842.10  29905.90\n",
      "19  1652294700000  30217.80  30226.20  29765.60  29895.10\n",
      "20  1652294400000  30104.40  30250.00  29956.80  30218.90\n"
     ]
    }
   ],
   "source": [
    "Raw_Data = pd.DataFrame(getRawData(),columns=['openTimeStamp','open','high','low','close',0,1,2,3,4,5,6])\n",
    "Raw_Datata_new = Raw_Data.drop([0,1,2,3,4,5,6], axis = 1)\n",
    "print(Raw_Datata_new)"
   ]
  },
  {
   "cell_type": "code",
   "execution_count": 30,
   "metadata": {},
   "outputs": [
    {
     "name": "stdout",
     "output_type": "stream",
     "text": [
      "openTimeStamp    high       low\n",
      "1652300100000   29493.00   28870.00    1\n",
      "1652299800000   29327.40   29071.70    2\n",
      "1652299500000   29422.80   29169.90    3\n",
      "1652299200000   29655.00   29326.00    4\n",
      "1652298900000   29597.60   29311.90    5\n",
      "1652298600000   29576.30   29200.30    6\n",
      "1652298300000   29415.00   29156.50    7\n",
      "1652298000000   29480.40   29230.00    8\n",
      "1652297700000   29586.00   29300.00    9\n",
      "1652297400000   29815.00   29527.60    10\n"
     ]
    }
   ],
   "source": [
    "print('openTimeStamp','  ', \"high \",'    ', \"low\")\n",
    "for i in range(1,11):\n",
    "    print(Raw_Datata_new['openTimeStamp'][i],' ',Raw_Datata_new['high'][i], ' ',Raw_Datata_new['low'][i] ,\"  \",i)"
   ]
  },
  {
   "cell_type": "code",
   "execution_count": 45,
   "metadata": {},
   "outputs": [
    {
     "name": "stdout",
     "output_type": "stream",
     "text": [
      "sum_high \t sum_low\n",
      "\n",
      "29493.0000 \t 28870.0000 \t 1\n",
      "29327.4000 \t 29071.7000 \t 2\n",
      "29422.8000 \t 29169.9000 \t 3\n",
      "29655.0000 \t 29326.0000 \t 4\n",
      "29597.6000 \t 29311.9000 \t 5\n",
      "29576.3000 \t 29200.3000 \t 6\n",
      "29415.0000 \t 29156.5000 \t 7\n",
      "29480.4000 \t 29230.0000 \t 8\n",
      "29586.0000 \t 29300.0000 \t 9\n",
      "29815.0000 \t 29527.6000 \t 10\n",
      "29536.0000 \t 29216.3900 \t Final\n"
     ]
    },
    {
     "data": {
      "image/png": "[encoded data removed]",
      "text/plain": [
       "<IPython.core.display.Image object>"
      ]
     },
     "execution_count": 45,
     "metadata": {},
     "output_type": "execute_result"
    }
   ],
   "source": [
    "sum_high=0\n",
    "sum_low=0\n",
    "print('sum_high','\\t','sum_low')\n",
    "print('')\n",
    "for i in range(1,11):\n",
    "    sum_high += float(Raw_Datata_new['high'][i])\n",
    "    sum_low += float(Raw_Datata_new['low'][i])\n",
    "    print( \"%.4f\"%float(Raw_Datata_new['high'][i]),'\\t', \"%.4f\"%float(Raw_Datata_new['low'][i]),'\\t',i)\n",
    "print( \"%.4f\"%int(sum_high/10),'\\t', \"%.4f\"%float(sum_low/10),'\\t','Final')\n",
    "from IPython.display import Image\n",
    "Image(filename =r'image.png')"
   ]
  }
 ],
 "metadata": {
  "kernelspec": {
   "display_name": "Python 3",
   "language": "python",
   "name": "python3"
  },
  "language_info": {
   "codemirror_mode": {
    "name": "ipython",
    "version": 3
   },
   "file_extension": ".py",
   "mimetype": "text/x-python",
   "name": "python",
   "nbconvert_exporter": "python",
   "pygments_lexer": "ipython3",
   "version": "3.7.3"
  }
 },
 "nbformat": 4,
 "nbformat_minor": 2
}
