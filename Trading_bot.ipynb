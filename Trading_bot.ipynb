{
 "cells": [
  {
   "cell_type": "code",
   "execution_count": 2,
   "metadata": {
    "collapsed": true
   },
   "outputs": [
    {
     "name": "stdout",
     "output_type": "stream",
     "text": [
      "Requirement already satisfied: binance-futures-connector in c:\\users\\abhi\\anaconda3\\lib\\site-packages (1.10.0)\n",
      "Requirement already satisfied: Twisted==22.2.0 in c:\\users\\abhi\\anaconda3\\lib\\site-packages (from binance-futures-connector) (22.2.0)\n",
      "Requirement already satisfied: pyOpenSSL==19.0.0 in c:\\users\\abhi\\anaconda3\\lib\\site-packages (from binance-futures-connector) (19.0.0)\n",
      "Requirement already satisfied: service-identity==21.1.0 in c:\\users\\abhi\\anaconda3\\lib\\site-packages (from binance-futures-connector) (21.1.0)\n",
      "Requirement already satisfied: autobahn==21.2.1 in c:\\users\\abhi\\anaconda3\\lib\\site-packages (from binance-futures-connector) (21.2.1)\n",
      "Requirement already satisfied: requests==2.25.1 in c:\\users\\abhi\\anaconda3\\lib\\site-packages (from binance-futures-connector) (2.25.1)\n",
      "Requirement already satisfied: constantly>=15.1 in c:\\users\\abhi\\anaconda3\\lib\\site-packages (from Twisted==22.2.0->binance-futures-connector) (15.1.0)\n",
      "Requirement already satisfied: typing-extensions>=3.6.5 in c:\\users\\abhi\\anaconda3\\lib\\site-packages (from Twisted==22.2.0->binance-futures-connector) (3.7.4.3)\n",
      "Requirement already satisfied: incremental>=21.3.0 in c:\\users\\abhi\\anaconda3\\lib\\site-packages (from Twisted==22.2.0->binance-futures-connector) (21.3.0)\n",
      "Requirement already satisfied: hyperlink>=17.1.1 in c:\\users\\abhi\\anaconda3\\lib\\site-packages (from Twisted==22.2.0->binance-futures-connector) (21.0.0)\n",
      "Requirement already satisfied: twisted-iocpsupport<2,>=1.0.2; platform_system == \"Windows\" in c:\\users\\abhi\\anaconda3\\lib\\site-packages (from Twisted==22.2.0->binance-futures-connector) (1.0.2)\n",
      "Requirement already satisfied: zope.interface>=4.4.2 in c:\\users\\abhi\\anaconda3\\lib\\site-packages (from Twisted==22.2.0->binance-futures-connector) (5.4.0)\n",
      "Requirement already satisfied: Automat>=0.8.0 in c:\\users\\abhi\\anaconda3\\lib\\site-packages (from Twisted==22.2.0->binance-futures-connector) (20.2.0)\n",
      "Collecting attrs>=19.2.0 (from Twisted==22.2.0->binance-futures-connector)\n",
      "  Downloading https://files.pythonhosted.org/packages/be/be/7abce643bfdf8ca01c48afa2ddf8308c2308b0c3b239a44e57d020afa0ef/attrs-21.4.0-py2.py3-none-any.whl (60kB)\n",
      "Requirement already satisfied: cryptography>=2.3 in c:\\users\\abhi\\anaconda3\\lib\\site-packages (from pyOpenSSL==19.0.0->binance-futures-connector) (2.6.1)\n",
      "Requirement already satisfied: six>=1.5.2 in c:\\users\\abhi\\anaconda3\\lib\\site-packages (from pyOpenSSL==19.0.0->binance-futures-connector) (1.12.0)\n",
      "Requirement already satisfied: pyasn1 in c:\\users\\abhi\\anaconda3\\lib\\site-packages (from service-identity==21.1.0->binance-futures-connector) (0.4.5)\n",
      "Requirement already satisfied: pyasn1-modules in c:\\users\\abhi\\anaconda3\\lib\\site-packages (from service-identity==21.1.0->binance-futures-connector) (0.2.5)\n",
      "Requirement already satisfied: txaio>=20.4.1 in c:\\users\\abhi\\anaconda3\\lib\\site-packages (from autobahn==21.2.1->binance-futures-connector) (22.2.1)\n",
      "Requirement already satisfied: idna<3,>=2.5 in c:\\users\\abhi\\anaconda3\\lib\\site-packages (from requests==2.25.1->binance-futures-connector) (2.8)\n",
      "Requirement already satisfied: chardet<5,>=3.0.2 in c:\\users\\abhi\\anaconda3\\lib\\site-packages (from requests==2.25.1->binance-futures-connector) (3.0.4)\n",
      "Requirement already satisfied: urllib3<1.27,>=1.21.1 in c:\\users\\abhi\\anaconda3\\lib\\site-packages (from requests==2.25.1->binance-futures-connector) (1.24.1)\n",
      "Requirement already satisfied: certifi>=2017.4.17 in c:\\users\\abhi\\anaconda3\\lib\\site-packages (from requests==2.25.1->binance-futures-connector) (2019.6.16)\n",
      "Requirement already satisfied: setuptools in c:\\users\\abhi\\anaconda3\\lib\\site-packages (from zope.interface>=4.4.2->Twisted==22.2.0->binance-futures-connector) (40.8.0)\n",
      "Requirement already satisfied: cffi!=1.11.3,>=1.8 in c:\\users\\abhi\\anaconda3\\lib\\site-packages (from cryptography>=2.3->pyOpenSSL==19.0.0->binance-futures-connector) (1.12.2)\n",
      "Requirement already satisfied: asn1crypto>=0.21.0 in c:\\users\\abhi\\anaconda3\\lib\\site-packages (from cryptography>=2.3->pyOpenSSL==19.0.0->binance-futures-connector) (0.24.0)\n",
      "Requirement already satisfied: pycparser in c:\\users\\abhi\\anaconda3\\lib\\site-packages (from cffi!=1.11.3,>=1.8->cryptography>=2.3->pyOpenSSL==19.0.0->binance-futures-connector) (2.19)\n",
      "Installing collected packages: attrs\n",
      "  Found existing installation: attrs 19.1.0\n",
      "    Uninstalling attrs-19.1.0:\n",
      "      Successfully uninstalled attrs-19.1.0\n",
      "Successfully installed attrs-21.4.0\n",
      "Note: you may need to restart the kernel to use updated packages.\n"
     ]
    }
   ],
   "source": [
    "pip install binance-futures-connector"
   ]
  },
  {
   "cell_type": "code",
   "execution_count": 3,
   "metadata": {},
   "outputs": [
    {
     "name": "stdout",
     "output_type": "stream",
     "text": [
      "hello\n"
     ]
    }
   ],
   "source": [
    "print('hello')"
   ]
  }
 ],
 "metadata": {
  "kernelspec": {
   "display_name": "Python 3",
   "language": "python",
   "name": "python3"
  },
  "language_info": {
   "codemirror_mode": {
    "name": "ipython",
    "version": 3
   },
   "file_extension": ".py",
   "mimetype": "text/x-python",
   "name": "python",
   "nbconvert_exporter": "python",
   "pygments_lexer": "ipython3",
   "version": "3.7.3"
  }
 },
 "nbformat": 4,
 "nbformat_minor": 2
}
